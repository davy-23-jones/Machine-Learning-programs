{
 "cells": [
  {
   "cell_type": "code",
   "execution_count": 28,
   "id": "ddeb8e5d",
   "metadata": {},
   "outputs": [
    {
     "name": "stdout",
     "output_type": "stream",
     "text": [
      "['sunny', 'warm', 'normal', 'strong', 'warm', 'same', 'Yes']\n",
      "['sunny', 'warm', 'high', 'strong', 'warm', 'same', 'Yes']\n",
      "['rainy', 'cold', 'high', 'strong', 'warm', 'change', 'No']\n",
      "['sunny', 'warm', 'high', 'strong', 'cool', 'change', 'Yes']\n"
     ]
    }
   ],
   "source": [
    "import csv\n",
    "import pandas\n",
    "x = []\n",
    "with open(\"Enjoysport.csv\") as csvFile:\n",
    "    reader = csv.reader(csvFile)\n",
    "    for row in reader:\n",
    "        print(row)\n",
    "        if row[len(row)-1].upper() == \"YES\" or \"NO\":\n",
    "            x.append(row)\n",
    "num_attributes = len(x[0])-1"
   ]
  },
  {
   "cell_type": "code",
   "execution_count": 29,
   "id": "b1b0b44c",
   "metadata": {},
   "outputs": [
    {
     "name": "stdout",
     "output_type": "stream",
     "text": [
      "Specific hypothesis: ['%', '%', '%', '%', '%', '%']\n",
      "General hypothesis: ['?', '?', '?', '?', '?', '?']\n"
     ]
    }
   ],
   "source": [
    "S = [\"%\"] * num_attributes\n",
    "G = [\"?\"] * num_attributes\n",
    "print(\"Specific hypothesis:\", S)\n",
    "print(\"General hypothesis:\", G)"
   ]
  },
  {
   "cell_type": "code",
   "execution_count": 30,
   "id": "e4dcd853",
   "metadata": {},
   "outputs": [],
   "source": [
    "for j in range(0, num_attributes):\n",
    "    S[j] = x[0][j]"
   ]
  },
  {
   "cell_type": "code",
   "execution_count": 33,
   "id": "92c1e0d2",
   "metadata": {},
   "outputs": [],
   "source": [
    "gen_hyp = []\n",
    "\n",
    "for i in range(0, len(x)):\n",
    "    if x[i][num_attributes] == 'YES':\n",
    "        for j in range(0, num_attributes):\n",
    "            if x[i][j]!=S[j]:\n",
    "                S[j]=\"?\"\n",
    "        for j in range(0, num_attributes):\n",
    "            for k in range(1, len(gen_hyp)):\n",
    "                if gen_hyp[k][j]!=\"?\" and gen_hyp[k][j]!=S[j]:\n",
    "                    del gen_hyp[k]\n",
    "        print(\"For training example {0} the hypothesis is S{0}\".format(i+1), S)\n",
    "        if(len(gen_hyp)==0):\n",
    "            print(G)\n",
    "        else:\n",
    "            print(gen_hyp)\n",
    "    if x[i][num_attributes] == \"NO\":\n",
    "        for j in range(0, num_attributes):\n",
    "            if S[j]!=x[i][j] and S[j]!='?':\n",
    "                G[j]=S[j]\n",
    "                gen_hyp.append(G)\n",
    "                G=['?']* num_attributes\n",
    "                \n",
    "        print(S)\n",
    "        print(gen_hyp)"
   ]
  },
  {
   "cell_type": "code",
   "execution_count": null,
   "id": "cb095321",
   "metadata": {},
   "outputs": [],
   "source": []
  },
  {
   "cell_type": "code",
   "execution_count": null,
   "id": "71fca0e9",
   "metadata": {},
   "outputs": [],
   "source": []
  },
  {
   "cell_type": "code",
   "execution_count": null,
   "id": "ffb16437",
   "metadata": {},
   "outputs": [],
   "source": []
  },
  {
   "cell_type": "code",
   "execution_count": null,
   "id": "e5a8da18",
   "metadata": {},
   "outputs": [],
   "source": []
  }
 ],
 "metadata": {
  "kernelspec": {
   "display_name": "Python 3 (ipykernel)",
   "language": "python",
   "name": "python3"
  },
  "language_info": {
   "codemirror_mode": {
    "name": "ipython",
    "version": 3
   },
   "file_extension": ".py",
   "mimetype": "text/x-python",
   "name": "python",
   "nbconvert_exporter": "python",
   "pygments_lexer": "ipython3",
   "version": "3.11.3"
  }
 },
 "nbformat": 4,
 "nbformat_minor": 5
}
