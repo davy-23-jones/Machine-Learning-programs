{
 "cells": [
  {
   "cell_type": "code",
   "execution_count": 18,
   "id": "ccf610e3",
   "metadata": {},
   "outputs": [
    {
     "name": "stdout",
     "output_type": "stream",
     "text": [
      "['sunny', 'warm', 'normal', 'strong', 'warm', 'same', 'Yes']\n",
      "['sunny', 'warm', 'high', 'strong', 'warm', 'same', 'Yes']\n",
      "['rainy', 'cold', 'high', 'strong', 'warm', 'change', 'No']\n",
      "['sunny', 'warm', 'high', 'strong', 'cool', 'change', 'Yes']\n"
     ]
    }
   ],
   "source": [
    "import csv\n",
    "import pandas as pd\n",
    "with open(\"Enjoysport.csv\") as csv_file:\n",
    "    read_csv = csv.reader(csv_file, delimiter = \",\")\n",
    "    data = []\n",
    "\n",
    "    for row in read_csv:\n",
    "        print(row)\n",
    "        if row[len(row)-1].upper() == \"YES\":\n",
    "            data.append(row)\n"
   ]
  },
  {
   "cell_type": "code",
   "execution_count": 19,
   "id": "c26e86ff",
   "metadata": {},
   "outputs": [
    {
     "name": "stdout",
     "output_type": "stream",
     "text": [
      "['sunny', 'warm', 'normal', 'strong', 'warm', 'same', 'Yes']\n",
      "['sunny', 'warm', 'high', 'strong', 'warm', 'same', 'Yes']\n",
      "['sunny', 'warm', 'high', 'strong', 'cool', 'change', 'Yes']\n"
     ]
    }
   ],
   "source": [
    "for x in data:\n",
    "    print(x)"
   ]
  },
  {
   "cell_type": "code",
   "execution_count": 20,
   "id": "fb2fd479",
   "metadata": {},
   "outputs": [
    {
     "name": "stdout",
     "output_type": "stream",
     "text": [
      "['%', '%', '%', '%', '%', '%']\n",
      "['sunny', 'warm', 'normal', 'strong', 'warm', 'same']\n",
      "['sunny', 'warm', '?', 'strong', 'warm', 'same']\n",
      "['sunny', 'warm', '?', 'strong', '?', '?']\n"
     ]
    }
   ],
   "source": [
    "hypo =[\"%\",\"%\",\"%\",\"%\",\"%\",\"%\"]\n",
    "TotalExamples = len(data)\n",
    "i = 0\n",
    "j=0\n",
    "k=0\n",
    "p=0;\n",
    "list = []\n",
    "print(hypo)\n",
    "d = len(data[p])-1\n",
    "for j in range(d):\n",
    "    list.append(data[i][j])\n",
    "\n",
    "hypo = list\n",
    "\n",
    "i = 1\n",
    "\n",
    "for i in range(TotalExamples):\n",
    "    for k in range(d):\n",
    "        if hypo[k] != data[i][k]:\n",
    "            hypo[k] = \"?\"\n",
    "           \n",
    "        else:\n",
    "            hypo[k]\n",
    "            \n",
    "    print(hypo)\n"
   ]
  },
  {
   "cell_type": "code",
   "execution_count": null,
   "id": "cd9a53f2",
   "metadata": {},
   "outputs": [],
   "source": []
  },
  {
   "cell_type": "code",
   "execution_count": null,
   "id": "517146f3",
   "metadata": {},
   "outputs": [],
   "source": []
  },
  {
   "cell_type": "code",
   "execution_count": null,
   "id": "d2d3e35a",
   "metadata": {},
   "outputs": [],
   "source": []
  }
 ],
 "metadata": {
  "kernelspec": {
   "display_name": "Python 3 (ipykernel)",
   "language": "python",
   "name": "python3"
  },
  "language_info": {
   "codemirror_mode": {
    "name": "ipython",
    "version": 3
   },
   "file_extension": ".py",
   "mimetype": "text/x-python",
   "name": "python",
   "nbconvert_exporter": "python",
   "pygments_lexer": "ipython3",
   "version": "3.11.4"
  }
 },
 "nbformat": 4,
 "nbformat_minor": 5
}
