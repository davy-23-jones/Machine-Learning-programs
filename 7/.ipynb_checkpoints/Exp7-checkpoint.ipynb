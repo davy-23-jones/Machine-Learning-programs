{
 "cells": [
  {
   "cell_type": "code",
   "execution_count": 8,
   "id": "6387ad80",
   "metadata": {},
   "outputs": [
    {
     "name": "stdout",
     "output_type": "stream",
     "text": [
      "(18, 2)\n",
      "0                      I love this sandwich\n",
      "1                  This is an amazing place\n",
      "2        I feel very good about these beers\n",
      "3                      This is my best work\n",
      "4                      What an awesome view\n",
      "5             I do not like this restaurant\n",
      "6                  I am tired of this stuff\n",
      "7                    I can't deal with this\n",
      "8                      He is my sworn enemy\n",
      "9                       My boss is horrible\n",
      "10                 This is an awesome place\n",
      "11    I do not like the taste of this juice\n",
      "12                          I love to dance\n",
      "13        I am sick and tired of this place\n",
      "14                     What a great holiday\n",
      "15           That is a bad locality to stay\n",
      "16           We will have good fun tomorrow\n",
      "17         I went to my enemy's house today\n",
      "Name: message, dtype: object 0     1\n",
      "1     1\n",
      "2     1\n",
      "3     1\n",
      "4     1\n",
      "5     0\n",
      "6     0\n",
      "7     0\n",
      "8     0\n",
      "9     0\n",
      "10    1\n",
      "11    0\n",
      "12    1\n",
      "13    0\n",
      "14    1\n",
      "15    0\n",
      "16    1\n",
      "17    0\n",
      "Name: labelnum, dtype: int64\n"
     ]
    }
   ],
   "source": [
    "import pandas as pd\n",
    "msg = pd.read_csv('naivetext.csv', names = ['message', 'label'])\n",
    "print(msg.shape)\n",
    "X = msg.message\n",
    "msg['labelnum'] = msg.label.map({'pos':1, 'neg':0})\n",
    "y = msg.labelnum\n",
    "print(X,y)"
   ]
  },
  {
   "cell_type": "code",
   "execution_count": 9,
   "id": "d78d05db",
   "metadata": {},
   "outputs": [
    {
     "name": "stdout",
     "output_type": "stream",
     "text": [
      "(13,)\n",
      "(13,)\n"
     ]
    }
   ],
   "source": [
    "from sklearn.model_selection import train_test_split\n",
    "xtrain, xtest, ytrain, ytest = train_test_split(X, y)\n",
    "print(ytrain.shape)\n",
    "print(xtrain.shape)"
   ]
  },
  {
   "cell_type": "code",
   "execution_count": 18,
   "id": "78a99c1f",
   "metadata": {},
   "outputs": [
    {
     "name": "stdout",
     "output_type": "stream",
     "text": [
      "['am' 'amazing' 'an' 'and' 'bad' 'best' 'boss' 'can' 'dance' 'deal' 'do'\n",
      " 'enemy' 'fun' 'good' 'great' 'have' 'holiday' 'horrible' 'house' 'is'\n",
      " 'like' 'locality' 'love' 'my' 'not' 'of' 'place' 'restaurant' 'sandwich'\n",
      " 'sick' 'stay' 'stuff' 'that' 'this' 'tired' 'to' 'today' 'tomorrow' 'we'\n",
      " 'went' 'what' 'will' 'with' 'work']\n"
     ]
    }
   ],
   "source": [
    "from sklearn.feature_extraction.text import CountVectorizer\n",
    "count_vect = CountVectorizer()\n",
    "xtrain_dtm = count_vect.fit_transform(xtrain)\n",
    "xtest_dtm = count_vect.transform(xtest)\n",
    "print(count_vect.get_feature_names_out())\n",
    "df = pd.DataFrame(xtrain_dtm.toarray(), columns = count_vect.get_feature_names_out())"
   ]
  },
  {
   "cell_type": "code",
   "execution_count": 23,
   "id": "7d40b951",
   "metadata": {},
   "outputs": [],
   "source": [
    "from sklearn.naive_bayes import MultinomialNB\n",
    "clf = MultinomialNB().fit(xtrain_dtm, ytrain)\n",
    "predicted = clf.predict(xtest_dtm)"
   ]
  },
  {
   "cell_type": "code",
   "execution_count": 25,
   "id": "af40a3ac",
   "metadata": {},
   "outputs": [
    {
     "name": "stdout",
     "output_type": "stream",
     "text": [
      "1.0\n",
      "[[2 0]\n",
      " [0 3]]\n",
      "1.0\n",
      "1.0\n"
     ]
    }
   ],
   "source": [
    "from sklearn import metrics\n",
    "print(metrics.accuracy_score(ytest, predicted))\n",
    "print(metrics.confusion_matrix(ytest, predicted))\n",
    "print(metrics.precision_score(ytest, predicted))\n",
    "print(metrics.recall_score(ytest, predicted))"
   ]
  },
  {
   "cell_type": "code",
   "execution_count": 26,
   "id": "9a037027",
   "metadata": {},
   "outputs": [],
   "source": [
    "doc = ['I like this place', 'My boss is not my saviour']"
   ]
  },
  {
   "cell_type": "code",
   "execution_count": 27,
   "id": "77ddc8e3",
   "metadata": {},
   "outputs": [
    {
     "name": "stdout",
     "output_type": "stream",
     "text": [
      "I like this place->1\n",
      "My boss is not my saviour->1\n"
     ]
    }
   ],
   "source": [
    "X_new_counts = count_vect.transform(doc)\n",
    "predictednew = clf.predict(X_new_counts)\n",
    "for doc, category in zip(doc, predictednew):\n",
    "    print(\"%s->%s\" %(doc, msg.labelnum[category]))"
   ]
  },
  {
   "cell_type": "code",
   "execution_count": null,
   "id": "0c19997f",
   "metadata": {},
   "outputs": [],
   "source": []
  }
 ],
 "metadata": {
  "kernelspec": {
   "display_name": "Python 3 (ipykernel)",
   "language": "python",
   "name": "python3"
  },
  "language_info": {
   "codemirror_mode": {
    "name": "ipython",
    "version": 3
   },
   "file_extension": ".py",
   "mimetype": "text/x-python",
   "name": "python",
   "nbconvert_exporter": "python",
   "pygments_lexer": "ipython3",
   "version": "3.10.9"
  }
 },
 "nbformat": 4,
 "nbformat_minor": 5
}
