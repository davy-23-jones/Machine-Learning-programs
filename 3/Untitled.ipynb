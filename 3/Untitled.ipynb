{
 "cells": [
  {
   "cell_type": "code",
   "execution_count": 3,
   "id": "a0f02086",
   "metadata": {},
   "outputs": [
    {
     "name": "stdout",
     "output_type": "stream",
     "text": [
      "<_csv.reader object at 0x0000016C9CC3D1E0>\n",
      "['age', 'income', 'student', 'creditrating', 'class']\n",
      "['youth', 'high', 'no', 'fair', 'no']\n",
      "['youth', 'high', 'no', 'excellent', 'no']\n",
      "['middleaged', 'high', 'no', 'fair', 'yes']\n",
      "['senior', 'medium', 'no', 'fair', 'yes']\n",
      "['senior', 'low', 'yes', 'fair', 'yes']\n",
      "['senior', 'low', 'yes', 'excellent', 'no']\n",
      "['middleaged', 'low', 'yes', 'excellent', 'yes']\n",
      "['youth', 'medium', 'no', 'fair', 'no']\n",
      "['youth', 'low', 'yes', 'fair', 'yes']\n",
      "['senior', 'medium', 'yes', 'fair', 'yes']\n",
      "['youth', 'medium', 'yes', 'excellent', 'yes']\n",
      "['middleaged', 'medium', 'no', 'excellent', 'yes']\n",
      "['middleaged', 'low', 'yes', 'fair', 'yes']\n",
      "['senior', 'medium', 'no', 'excellent', 'no']\n",
      "['senior', 'medium', 'no', 'excellent', 'no']\n",
      "['senior', 'medium', 'no', 'excellent', 'no']\n"
     ]
    }
   ],
   "source": [
    "import csv \n",
    "row = []\n",
    "with open(\"customer(A).csv\") as csv_file:\n",
    "    csvread = csv.reader(csv_file, delimiter = ',')\n",
    "    print(csvread)\n",
    "    for row in csvread:\n",
    "        print(row)"
   ]
  },
  {
   "cell_type": "code",
   "execution_count": 4,
   "id": "e36d97ea",
   "metadata": {},
   "outputs": [
    {
     "name": "stdout",
     "output_type": "stream",
     "text": [
      "           age  income student creditrating class\n",
      "0        youth    high      no         fair    no\n",
      "1        youth    high      no    excellent    no\n",
      "2   middleaged    high      no         fair   yes\n",
      "3       senior  medium      no         fair   yes\n",
      "4       senior     low     yes         fair   yes\n",
      "5       senior     low     yes    excellent    no\n",
      "6   middleaged     low     yes    excellent   yes\n",
      "7        youth  medium      no         fair    no\n",
      "8        youth     low     yes         fair   yes\n",
      "9       senior  medium     yes         fair   yes\n",
      "10       youth  medium     yes    excellent   yes\n",
      "11  middleaged  medium      no    excellent   yes\n",
      "12  middleaged     low     yes         fair   yes\n",
      "13      senior  medium      no    excellent    no\n",
      "14      senior  medium      no    excellent    no\n",
      "15      senior  medium      no    excellent    no\n"
     ]
    }
   ],
   "source": [
    "import pandas as pd\n",
    "csv = pd.read_csv(\"customer(A).csv\")\n",
    "print(csv)"
   ]
  },
  {
   "cell_type": "code",
   "execution_count": 5,
   "id": "9c4434d0",
   "metadata": {},
   "outputs": [
    {
     "data": {
      "text/plain": [
       "age             object\n",
       "income          object\n",
       "student         object\n",
       "creditrating    object\n",
       "class           object\n",
       "dtype: object"
      ]
     },
     "execution_count": 5,
     "metadata": {},
     "output_type": "execute_result"
    }
   ],
   "source": [
    "csv.dtypes"
   ]
  },
  {
   "cell_type": "code",
   "execution_count": 6,
   "id": "7be2545a",
   "metadata": {},
   "outputs": [
    {
     "data": {
      "text/plain": [
       "income\n",
       "medium    8\n",
       "low       5\n",
       "high      3\n",
       "Name: count, dtype: int64"
      ]
     },
     "execution_count": 6,
     "metadata": {},
     "output_type": "execute_result"
    }
   ],
   "source": [
    "csv['income'].value_counts()\n"
   ]
  },
  {
   "cell_type": "code",
   "execution_count": 68,
   "id": "352e2a34",
   "metadata": {},
   "outputs": [
    {
     "data": {
      "text/plain": [
       "<Axes: xlabel='income'>"
      ]
     },
     "execution_count": 68,
     "metadata": {},
     "output_type": "execute_result"
    },
    {
     "data": {
      "image/png": "[encoded data removed]",
      "text/plain": [
       "<Figure size 640x480 with 1 Axes>"
      ]
     },
     "metadata": {},
     "output_type": "display_data"
    }
   ],
   "source": [
    "import matplotlib.pyplot as plt\n",
    "income = csv['income'].value_counts()\n",
    "income.plot.bar()\n"
   ]
  },
  {
   "cell_type": "code",
   "execution_count": 35,
   "id": "2d2267ea",
   "metadata": {},
   "outputs": [
    {
     "name": "stdout",
     "output_type": "stream",
     "text": [
      "       age  income student creditrating class\n",
      "14  senior  medium      no    excellent    no\n",
      "15  senior  medium      no    excellent    no\n",
      "           age  income student creditrating class\n",
      "0        youth    high      no         fair    no\n",
      "1        youth    high      no    excellent    no\n",
      "2   middleaged    high      no         fair   yes\n",
      "3       senior  medium      no         fair   yes\n",
      "4       senior     low     yes         fair   yes\n",
      "5       senior     low     yes    excellent    no\n",
      "6   middleaged     low     yes    excellent   yes\n",
      "7        youth  medium      no         fair    no\n",
      "8        youth     low     yes         fair   yes\n",
      "9       senior  medium     yes         fair   yes\n",
      "10       youth  medium     yes    excellent   yes\n",
      "11  middleaged  medium      no    excellent   yes\n",
      "12  middleaged     low     yes         fair   yes\n",
      "13      senior  medium      no    excellent    no\n"
     ]
    }
   ],
   "source": [
    "print(csv[csv.duplicated(subset=['age', 'income', 'student', 'creditrating', 'class'])])\n",
    "print(csv.drop_duplicates())\n"
   ]
  },
  {
   "cell_type": "code",
   "execution_count": 77,
   "id": "e3975af0",
   "metadata": {},
   "outputs": [],
   "source": [
    "for key, value in csv.items():\n",
    "    if len(csv[key].unique()) == 1:\n",
    "        print(key)\n",
    "        print(\"Hello\")\n",
    "        del csv[key]\n",
    "print()"
   ]
  },
  {
   "cell_type": "code",
   "execution_count": 45,
   "id": "404e250e",
   "metadata": {},
   "outputs": [
    {
     "name": "stdout",
     "output_type": "stream",
     "text": [
      "           age  income student creditrating class   high    low  medium\n",
      "0        youth    high      no         fair    no   True  False   False\n",
      "1        youth    high      no    excellent    no   True  False   False\n",
      "2   middleaged    high      no         fair   yes   True  False   False\n",
      "3       senior  medium      no         fair   yes  False  False    True\n",
      "4       senior     low     yes         fair   yes  False   True   False\n",
      "5       senior     low     yes    excellent    no  False   True   False\n",
      "6   middleaged     low     yes    excellent   yes  False   True   False\n",
      "7        youth  medium      no         fair    no  False  False    True\n",
      "8        youth     low     yes         fair   yes  False   True   False\n",
      "9       senior  medium     yes         fair   yes  False  False    True\n",
      "10       youth  medium     yes    excellent   yes  False  False    True\n",
      "11  middleaged  medium      no    excellent   yes  False  False    True\n",
      "12  middleaged     low     yes         fair   yes  False   True   False\n",
      "13      senior  medium      no    excellent    no  False  False    True\n",
      "14      senior  medium      no    excellent    no  False  False    True\n",
      "15      senior  medium      no    excellent    no  False  False    True\n"
     ]
    }
   ],
   "source": [
    "transform = pd.get_dummies(csv['income'])\n",
    "df_new = pd.concat([csv, transform], axis =1)\n",
    "print(df_new)"
   ]
  },
  {
   "cell_type": "code",
   "execution_count": 49,
   "id": "b95deb50",
   "metadata": {},
   "outputs": [
    {
     "name": "stdout",
     "output_type": "stream",
     "text": [
      "    age  income student creditrating class   high    low  medium\n",
      "0     1    high      no         fair    no   True  False   False\n",
      "1     1    high      no    excellent    no   True  False   False\n",
      "2     1    high      no         fair   yes   True  False   False\n",
      "3     1  medium      no         fair   yes  False  False    True\n",
      "4     1     low     yes         fair   yes  False   True   False\n",
      "5     1     low     yes    excellent    no  False   True   False\n",
      "6     1     low     yes    excellent   yes  False   True   False\n",
      "7     1  medium      no         fair    no  False  False    True\n",
      "8     1     low     yes         fair   yes  False   True   False\n",
      "9     1  medium     yes         fair   yes  False  False    True\n",
      "10    1  medium     yes    excellent   yes  False  False    True\n",
      "11    1  medium      no    excellent   yes  False  False    True\n",
      "12    1     low     yes         fair   yes  False   True   False\n",
      "13    1  medium      no    excellent    no  False  False    True\n",
      "14    1  medium      no    excellent    no  False  False    True\n",
      "15    1  medium      no    excellent    no  False  False    True\n"
     ]
    }
   ],
   "source": [
    "df_new['age'] = [0 if x=='youth' else 1 for x in df_new['age']]\n",
    "print(df_new)"
   ]
  },
  {
   "cell_type": "code",
   "execution_count": 51,
   "id": "547c98e1",
   "metadata": {},
   "outputs": [
    {
     "data": {
      "text/html": [
       "<div>\n",
       "<style scoped>\n",
       "    .dataframe tbody tr th:only-of-type {\n",
       "        vertical-align: middle;\n",
       "    }\n",
       "\n",
       "    .dataframe tbody tr th {\n",
       "        vertical-align: top;\n",
       "    }\n",
       "\n",
       "    .dataframe thead th {\n",
       "        text-align: right;\n",
       "    }\n",
       "</style>\n",
       "<table border=\"1\" class=\"dataframe\">\n",
       "  <thead>\n",
       "    <tr style=\"text-align: right;\">\n",
       "      <th></th>\n",
       "      <th>age</th>\n",
       "      <th>income</th>\n",
       "      <th>student</th>\n",
       "      <th>creditrating</th>\n",
       "      <th>class</th>\n",
       "      <th>high</th>\n",
       "      <th>low</th>\n",
       "      <th>medium</th>\n",
       "    </tr>\n",
       "  </thead>\n",
       "  <tbody>\n",
       "    <tr>\n",
       "      <th>13</th>\n",
       "      <td>1</td>\n",
       "      <td>medium</td>\n",
       "      <td>no</td>\n",
       "      <td>excellent</td>\n",
       "      <td>no</td>\n",
       "      <td>False</td>\n",
       "      <td>False</td>\n",
       "      <td>True</td>\n",
       "    </tr>\n",
       "    <tr>\n",
       "      <th>14</th>\n",
       "      <td>1</td>\n",
       "      <td>medium</td>\n",
       "      <td>no</td>\n",
       "      <td>excellent</td>\n",
       "      <td>no</td>\n",
       "      <td>False</td>\n",
       "      <td>False</td>\n",
       "      <td>True</td>\n",
       "    </tr>\n",
       "    <tr>\n",
       "      <th>15</th>\n",
       "      <td>1</td>\n",
       "      <td>medium</td>\n",
       "      <td>no</td>\n",
       "      <td>excellent</td>\n",
       "      <td>no</td>\n",
       "      <td>False</td>\n",
       "      <td>False</td>\n",
       "      <td>True</td>\n",
       "    </tr>\n",
       "  </tbody>\n",
       "</table>\n",
       "</div>"
      ],
      "text/plain": [
       "    age  income student creditrating class   high    low  medium\n",
       "13    1  medium      no    excellent    no  False  False    True\n",
       "14    1  medium      no    excellent    no  False  False    True\n",
       "15    1  medium      no    excellent    no  False  False    True"
      ]
     },
     "execution_count": 51,
     "metadata": {},
     "output_type": "execute_result"
    }
   ],
   "source": [
    "df_new.head(3)\n",
    "df_new.tail(3)"
   ]
  },
  {
   "cell_type": "code",
   "execution_count": 59,
   "id": "75fc0d0d",
   "metadata": {},
   "outputs": [
    {
     "data": {
      "text/plain": [
       "age                 1\n",
       "income           high\n",
       "student            no\n",
       "creditrating     fair\n",
       "class              no\n",
       "high             True\n",
       "low             False\n",
       "medium          False\n",
       "Name: 0, dtype: object"
      ]
     },
     "execution_count": 59,
     "metadata": {},
     "output_type": "execute_result"
    }
   ],
   "source": [
    "df_new.loc[0, :]"
   ]
  },
  {
   "cell_type": "code",
   "execution_count": 62,
   "id": "ebf130b8",
   "metadata": {},
   "outputs": [
    {
     "name": "stdout",
     "output_type": "stream",
     "text": [
      "       age  income student creditrating class high  low medium\n",
      "0        1    high      no         fair    no  1.0  0.0    0.0\n",
      "1        1    high      no    excellent    no  1.0  0.0    0.0\n",
      "2        1    high      no         fair   yes  1.0  0.0    0.0\n",
      "3        1  medium      no         fair   yes  0.0  0.0    1.0\n",
      "4        1     low     yes         fair   yes  0.0  1.0    0.0\n",
      "5        1     low     yes    excellent    no  0.0  1.0    0.0\n",
      "6        1     low     yes    excellent   yes  0.0  1.0    0.0\n",
      "7        1  medium      no         fair    no  0.0  0.0    1.0\n",
      "8        1     low     yes         fair   yes  0.0  1.0    0.0\n",
      "9        1  medium     yes         fair   yes  0.0  0.0    1.0\n",
      "10       1  medium     yes    excellent   yes  0.0  0.0    1.0\n",
      "11       1  medium      no    excellent   yes  0.0  0.0    1.0\n",
      "12       1     low     yes         fair   yes  0.0  1.0    0.0\n",
      "13       1  medium      no    excellent    no  0.0  0.0    1.0\n",
      "14       1  medium      no    excellent    no  0.0  0.0    1.0\n",
      "15       1  medium      no    excellent    no  0.0  0.0    1.0\n",
      "16  senior    high      No          low    NO  NaN  NaN    NaN\n",
      "17  senior    high      No          low    NO  NaN  NaN    NaN\n",
      "18  senior    high      No          low    NO  NaN  NaN    NaN\n"
     ]
    }
   ],
   "source": [
    "new_row = {'age':'senior','income':'high','student': 'No','creditrating':'low','class':'NO'}\n",
    "df_new.loc[len(df_new)] = new_row\n",
    "print(df_new)"
   ]
  },
  {
   "cell_type": "code",
   "execution_count": 66,
   "id": "a3f09c55",
   "metadata": {},
   "outputs": [
    {
     "name": "stdout",
     "output_type": "stream",
     "text": [
      "       age  income student creditrating class high  low medium  age_int   \n",
      "0        1    high      no         fair    no  1.0  0.0    0.0       67  \\\n",
      "1        1    high      no    excellent    no  1.0  0.0    0.0       65   \n",
      "2        1    high      no         fair   yes  1.0  0.0    0.0       44   \n",
      "3        1  medium      no         fair   yes  0.0  0.0    1.0       73   \n",
      "4        1     low     yes         fair   yes  0.0  1.0    0.0       33   \n",
      "5        1     low     yes    excellent    no  0.0  1.0    0.0       81   \n",
      "6        1     low     yes    excellent   yes  0.0  1.0    0.0       52   \n",
      "7        1  medium      no         fair    no  0.0  0.0    1.0       40   \n",
      "8        1     low     yes         fair   yes  0.0  1.0    0.0       70   \n",
      "9        1  medium     yes         fair   yes  0.0  0.0    1.0       29   \n",
      "10       1  medium     yes    excellent   yes  0.0  0.0    1.0       37   \n",
      "11       1  medium      no    excellent   yes  0.0  0.0    1.0       76   \n",
      "12       1     low     yes         fair   yes  0.0  1.0    0.0        7   \n",
      "13       1  medium      no    excellent    no  0.0  0.0    1.0       10   \n",
      "14       1  medium      no    excellent    no  0.0  0.0    1.0       49   \n",
      "15       1  medium      no    excellent    no  0.0  0.0    1.0       19   \n",
      "16  senior    high      No          low    NO  NaN  NaN    NaN       39   \n",
      "17  senior    high      No          low    NO  NaN  NaN    NaN       90   \n",
      "18  senior    high      No          low    NO  NaN  NaN    NaN       94   \n",
      "19     NaN     NaN     NaN          NaN   NaN  NaN  NaN    NaN       35   \n",
      "\n",
      "   age_group  \n",
      "0      60-69  \n",
      "1      60-69  \n",
      "2      40-49  \n",
      "3      70-79  \n",
      "4      30-39  \n",
      "5      80-89  \n",
      "6      50-59  \n",
      "7      40-49  \n",
      "8      70-79  \n",
      "9      20-29  \n",
      "10     30-39  \n",
      "11     70-79  \n",
      "12       0-9  \n",
      "13     10-19  \n",
      "14     40-49  \n",
      "15     10-19  \n",
      "16     30-39  \n",
      "17     90-99  \n",
      "18     90-99  \n",
      "19     30-39  \n"
     ]
    }
   ],
   "source": [
    "import numpy as np\n",
    "new_df = pd.DataFrame({'age_int':np.random.randint(0,100,20)})\n",
    "labels = [\"{0}-{1}\".format(i, i+9)for i in range(0,100,10)]\n",
    "new_df['age_group']=pd.cut(new_df.age_int, range(0,105, 10), right=False, labels=labels)\n",
    "new_df.head(15)\n",
    "df_new = pd.concat([df_new, new_df], axis=1)\n",
    "print(df_new)"
   ]
  }
 ],
 "metadata": {
  "kernelspec": {
   "display_name": "Python 3 (ipykernel)",
   "language": "python",
   "name": "python3"
  },
  "language_info": {
   "codemirror_mode": {
    "name": "ipython",
    "version": 3
   },
   "file_extension": ".py",
   "mimetype": "text/x-python",
   "name": "python",
   "nbconvert_exporter": "python",
   "pygments_lexer": "ipython3",
   "version": "3.11.4"
  }
 },
 "nbformat": 4,
 "nbformat_minor": 5
}
